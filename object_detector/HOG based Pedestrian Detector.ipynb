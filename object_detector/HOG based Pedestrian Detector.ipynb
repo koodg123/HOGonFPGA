{
 "cells": [
  {
   "cell_type": "code",
   "execution_count": 10,
   "metadata": {},
   "outputs": [],
   "source": [
    "import numpy as np \n",
    "from skimage.transform import pyramid_gaussian\n",
    "from imutils.object_detection import non_max_suppression\n",
    "import imutils\n",
    "from skimage.feature import hog\n",
    "from sklearn.externals import joblib\n",
    "from skimage.io import imread\n",
    "from sklearn.svm import LinearSVC\n",
    "import cv2\n",
    "from config import *\n",
    "from skimage import color\n",
    "import matplotlib.pyplot as plt \n",
    "import os \n",
    "import glob"
   ]
  },
  {
   "cell_type": "markdown",
   "metadata": {},
   "source": [
    "### Path to Directories"
   ]
  },
  {
   "cell_type": "code",
   "execution_count": 11,
   "metadata": {},
   "outputs": [],
   "source": [
    "pos_im_path = '../data/images/pos_person'\n",
    "neg_im_path = '../data/images/neg_person'\n",
    "pos_feat_ph = '../data/features/pos'\n",
    "neg_feat_ph = '../data/features/neg'\n",
    "model_path = '../data/models/'"
   ]
  },
  {
   "cell_type": "markdown",
   "metadata": {},
   "source": [
    "###  HyperParameters "
   ]
  },
  {
   "cell_type": "code",
   "execution_count": 12,
   "metadata": {},
   "outputs": [],
   "source": [
    "min_wdw_sz = [64, 128]\n",
    "step_size = [10, 10]\n",
    "orientations = 9\n",
    "pixels_per_cell = [6, 6]\n",
    "cells_per_block = [2, 2]\n",
    "visualize = True\n",
    "normalize = True\n",
    "threshold = .3"
   ]
  },
  {
   "cell_type": "code",
   "execution_count": 13,
   "metadata": {},
   "outputs": [
    {
     "name": "stdout",
     "output_type": "stream",
     "text": [
      "The autoreload extension is already loaded. To reload it, use:\n",
      "  %reload_ext autoreload\n"
     ]
    }
   ],
   "source": [
    "% load_ext autoreload\n",
    "%autoreload 2"
   ]
  },
  {
   "cell_type": "code",
   "execution_count": 14,
   "metadata": {},
   "outputs": [],
   "source": [
    "# If feature directories don't exist, create them\n",
    "if not os.path.isdir(pos_feat_ph):\n",
    "    os.makedirs(pos_feat_ph)\n",
    "if not os.path.isdir(neg_feat_ph):\n",
    "    os.makedirs(neg_feat_ph)\n",
    "# If model directories don't exist, create them\n",
    "if not os.path.isdir(os.path.split(model_path)[0]):\n",
    "    os.makedirs(os.path.split(model_path)[0])\n"
   ]
  },
  {
   "cell_type": "markdown",
   "metadata": {},
   "source": [
    "## Extract HOG Features"
   ]
  },
  {
   "cell_type": "code",
   "execution_count": 15,
   "metadata": {},
   "outputs": [],
   "source": [
    "def extract_features():\n",
    "    des_type = 'HOG'\n",
    "    print (\"Calculating the descriptors for the positive samples and saving them\")\n",
    "    for im_path in glob.glob(os.path.join(pos_im_path, \"*\")):   \n",
    "        im = imread(im_path, as_grey=True)\n",
    "        fd = hog(im, orientations, pixels_per_cell, cells_per_block,'L1')\n",
    "        #print(fd)\n",
    "        fd_name = os.path.split(im_path)[1].split(\".\")[0] + \".feat\"\n",
    "        fd_path = os.path.join(pos_feat_ph, fd_name)\n",
    "        joblib.dump(fd, fd_path)\n",
    "    print (\"Positive features saved in {}\".format(pos_feat_ph))\n",
    "\n",
    "    print (\"Calculating the descriptors for the negative samples and saving them\")\n",
    "    for im_path in glob.glob(os.path.join(neg_im_path, \"*\")):\n",
    "        im = imread(im_path, as_grey=True)\n",
    "        fd = hog(im,  orientations, pixels_per_cell, cells_per_block, 'L1')\n",
    "        fd_name = os.path.split(im_path)[1].split(\".\")[0] + \".feat\"\n",
    "        fd_path = os.path.join(neg_feat_ph, fd_name)\n",
    "        joblib.dump(fd, fd_path)\n",
    "    print (\"Negative features saved in {}\".format(neg_feat_ph))\n",
    "    print (\"Completed calculating features from training images\")"
   ]
  },
  {
   "cell_type": "code",
   "execution_count": 16,
   "metadata": {},
   "outputs": [
    {
     "name": "stdout",
     "output_type": "stream",
     "text": [
      "Calculating the descriptors for the positive samples and saving them\n"
     ]
    },
    {
     "name": "stderr",
     "output_type": "stream",
     "text": [
      "/home/khushal/anaconda2/envs/dl/lib/python3.6/site-packages/skimage/feature/_hog.py:119: skimage_deprecation: Default value of `block_norm`==`L1` is deprecated and will be changed to `L2-Hys` in v0.15\n",
      "  'be changed to `L2-Hys` in v0.15', skimage_deprecation)\n"
     ]
    },
    {
     "name": "stdout",
     "output_type": "stream",
     "text": [
      "Positive features saved in ../data/features/pos\n",
      "Calculating the descriptors for the negative samples and saving them\n",
      "Negative features saved in ../data/features/neg\n",
      "Completed calculating features from training images\n"
     ]
    }
   ],
   "source": [
    "extract_features()"
   ]
  },
  {
   "cell_type": "markdown",
   "metadata": {},
   "source": [
    "### Total Negative Images = 4146\n",
    "### Total Positive Images = 2416"
   ]
  },
  {
   "cell_type": "markdown",
   "metadata": {},
   "source": [
    "## Training th SVM Classifier"
   ]
  },
  {
   "cell_type": "code",
   "execution_count": 17,
   "metadata": {},
   "outputs": [],
   "source": [
    "def train_svm():\n",
    "    fds = []\n",
    "    labels = []\n",
    "    # Load the positive features\n",
    "    for feat_path in glob.glob(os.path.join(pos_feat_ph,\"*.feat\")):\n",
    "        fd = joblib.load(feat_path)  \n",
    "        fds.append(fd)\n",
    "        labels.append(1)\n",
    "\n",
    "    # Load the negative features\n",
    "    for feat_path in glob.glob(os.path.join(neg_feat_ph,\"*.feat\")):\n",
    "        fd = joblib.load(feat_path)\n",
    "        fds.append(fd)\n",
    "        labels.append(0)\n",
    "    fds=np.asarray(fds)\n",
    "    #print (fds.shape,len(labels))\n",
    "    #print(fds[0])\n",
    "    clf = LinearSVC()\n",
    "    print (\"Training a Linear SVM Classifier\")\n",
    "    clf.fit(fds, labels)\n",
    "    joblib.dump(clf, model_path+'svm.model')\n",
    "    print (\"Classifier saved to {}\".format(model_path))\n",
    "    \n",
    "    \n",
    "\n",
    "        "
   ]
  },
  {
   "cell_type": "code",
   "execution_count": 18,
   "metadata": {},
   "outputs": [
    {
     "name": "stdout",
     "output_type": "stream",
     "text": [
      "Training a Linear SVM Classifier\n",
      "Classifier saved to ../data/models/\n"
     ]
    }
   ],
   "source": [
    "train_svm()"
   ]
  },
  {
   "cell_type": "markdown",
   "metadata": {},
   "source": [
    "### Testing the Detector"
   ]
  },
  {
   "cell_type": "code",
   "execution_count": 19,
   "metadata": {},
   "outputs": [],
   "source": [
    "min_wdw_sz = (64, 128)\n",
    "step_size = (10, 10)\n",
    "downscale = 1.25"
   ]
  },
  {
   "cell_type": "code",
   "execution_count": 20,
   "metadata": {},
   "outputs": [],
   "source": [
    "def sliding_window(image, window_size, step_size):\n",
    "     for y in range(0, image.shape[0], step_size[1]):\n",
    "        for x in range(0, image.shape[1], step_size[0]):\n",
    "            yield (x, y, image[y: y + window_size[1], x: x + window_size[0]])"
   ]
  },
  {
   "cell_type": "code",
   "execution_count": 24,
   "metadata": {},
   "outputs": [],
   "source": [
    "def detector(filename):\n",
    "    im = cv2.imread(filename)\n",
    "    im = imutils.resize(im, width = min(400, im.shape[1]))\n",
    "    # Load the Model\n",
    "    clf = joblib.load(os.path.join(model_path, 'svm.model'))\n",
    "    detections = []\n",
    "    scale = 0\n",
    "\n",
    "    for im_scaled in pyramid_gaussian(im, downscale = downscale):\n",
    "        #The list contains detections at the current scale\n",
    "        if im_scaled.shape[0] < min_wdw_sz[1] or im_scaled.shape[1] < min_wdw_sz[0]:\n",
    "            break\n",
    "        for (x, y, im_window) in sliding_window(im_scaled, min_wdw_sz, step_size):\n",
    "            if im_window.shape[0] != min_wdw_sz[1] or im_window.shape[1] != min_wdw_sz[0]:\n",
    "                continue\n",
    "            im_window = color.rgb2gray(im_window)\n",
    "            fd = hog(im_window, orientations, pixels_per_cell, cells_per_block,'L1')\n",
    "\n",
    "            fd = fd.reshape(1, -1)\n",
    "            pred = clf.predict(fd)\n",
    "\n",
    "            if pred == 1:\n",
    "                \n",
    "                if clf.decision_function(fd) > 0.5:\n",
    "                    detections.append((int(x * (downscale**scale)), int(y * (downscale**scale)), clf.decision_function(fd), \n",
    "                    int(min_wdw_sz[0] * (downscale**scale)),\n",
    "                    int(min_wdw_sz[1] * (downscale**scale))))\n",
    "                 \n",
    "\n",
    "            \n",
    "        scale += 1\n",
    "\n",
    "    clone = im.copy()\n",
    "\n",
    "    for (x_tl, y_tl, _, w, h) in detections:\n",
    "        cv2.rectangle(im, (x_tl, y_tl), (x_tl + w, y_tl + h), (0, 255, 0), thickness = 2)\n",
    "\n",
    "    rects = np.array([[x, y, x + w, y + h] for (x, y, _, w, h) in detections])\n",
    "    sc = [score[0] for (x, y, score, w, h) in detections]\n",
    "    print (\"sc: \"+ str(sc))\n",
    "    sc = np.array(sc)\n",
    "    pick = non_max_suppression(rects, probs = sc, overlapThresh = 0.3)\n",
    "    print (\"shape \"+ str(pick.shape))\n",
    "\n",
    "    for(xA, yA, xB, yB) in pick:\n",
    "        cv2.rectangle(clone, (xA, yA), (xB, yB), (0, 255, 0), 2)\n",
    "    \n",
    "    plt.axis(\"off\")\n",
    "    plt.imshow(cv2.cvtColor(im, cv2.COLOR_BGR2RGB))\n",
    "    plt.title(\"Raw Detection before NMS\")\n",
    "    plt.show()\n",
    "\n",
    "    plt.axis(\"off\")\n",
    "    plt.imshow(cv2.cvtColor(clone, cv2.COLOR_BGR2RGB))\n",
    "    plt.title(\"Final Detections after applying NMS\")\n",
    "    plt.show()"
   ]
  },
  {
   "cell_type": "code",
   "execution_count": 25,
   "metadata": {},
   "outputs": [],
   "source": [
    "def test_folder(foldername):\n",
    "    filenames = glob.iglob(os.path.join(foldername, '*'))\n",
    "    for filename in filenames:\n",
    "        detector(filename)"
   ]
  },
  {
   "cell_type": "code",
   "execution_count": 1,
   "metadata": {},
   "outputs": [],
   "source": [
    "foldername = 'test_image'\n",
    "test_folder(foldername)"
   ]
  },
  {
   "cell_type": "markdown",
   "metadata": {},
   "source": [
    "## HOG 5-STAGE ALGORITHM"
   ]
  },
  {
   "cell_type": "markdown",
   "metadata": {},
   "source": [
    "The first stage applies an optional global image normalization\n",
    "equalisation that is designed to reduce the influence of illumination\n",
    "effects. In practice we use gamma (power law) compression, either\n",
    "computing the square root or the log of each color channel.\n",
    "Image texture strength is typically proportional to the local surface\n",
    "illumination so this compression helps to reduce the effects of local\n",
    "shadowing and illumination variations."
   ]
  },
  {
   "cell_type": "raw",
   "metadata": {},
   "source": [
    "if transform_sqrt:\n",
    "    image = np.sqrt(image)"
   ]
  },
  {
   "cell_type": "markdown",
   "metadata": {},
   "source": [
    "The second stage computes first order image gradients. These capture\n",
    "contour, silhouette and some texture information, while providing\n",
    "further resistance to illumination variations. The locally dominant\n",
    "color channel is used, which provides color invariance to a large\n",
    "extent. Variant methods may also include second order image derivatives,\n",
    "which act as primitive bar detectors - a useful feature for capturing,\n",
    "e.g. bar like structures in bicycles and limbs in humans."
   ]
  },
  {
   "cell_type": "raw",
   "metadata": {},
   "source": [
    "g_row, g_col = _hog_channel_gradient(image)\n",
    " \n",
    "def _hog_channel_gradient(channel):\n",
    "   Compute unnormalized gradient image along `row` and `col` axes.\n",
    "\n",
    "    Parameters\n",
    "    ----------\n",
    "    channel : (M, N) ndarray\n",
    "        Grayscale image or one of image channel.\n",
    "\n",
    "    Returns\n",
    "    -------\n",
    "    g_row, g_col : channel gradient along `row` and `col` axes correspondingly.\n",
    "   \n",
    "   \n",
    "    g_row = np.empty(channel.shape, dtype=np.double)\n",
    "    g_row[0, :] = 0\n",
    "    g_row[-1, :] = 0\n",
    "    g_row[1:-1, :] = channel[2:, :] - channel[:-2, :]\n",
    "    g_col = np.empty(channel.shape, dtype=np.double)\n",
    "    g_col[:, 0] = 0\n",
    "    g_col[:, -1] = 0\n",
    "    g_col[:, 1:-1] = channel[:, 2:] - channel[:, :-2]\n",
    "\n",
    "    return g_row, g_col"
   ]
  },
  {
   "cell_type": "markdown",
   "metadata": {},
   "source": [
    "The third stage aims to produce an encoding that is sensitive to\n",
    "local image content while remaining resistant to small changes in\n",
    "pose or appearance. The adopted method pools gradient orientation\n",
    "information locally in the same way as the SIFT [Lowe 2004]\n",
    "feature. The image window is divided into small spatial regions,\n",
    "called \"cells\". For each cell we accumulate a local 1-D histogram\n",
    "of gradient or edge orientations over all the pixels in the\n",
    "cell. This combined cell-level 1-D histogram forms the basic\n",
    "\"orientation histogram\" representation. Each orientation histogram\n",
    "divides the gradient angle range into a fixed number of\n",
    "predetermined bins. The gradient magnitudes of the pixels in the\n",
    "cell are used to vote into the orientation histogram."
   ]
  },
  {
   "cell_type": "raw",
   "metadata": {},
   "source": [
    "orientations = 9\n",
    "pixels_per_cell = [6, 6]\n",
    "cells_per_block = [2, 2]"
   ]
  },
  {
   "cell_type": "raw",
   "metadata": {},
   "source": [
    "\n",
    "s_row, s_col = image.shape[:2]\n",
    "c_row, c_col = pixels_per_cell\n",
    "b_row, b_col = cells_per_block\n",
    "\n",
    "n_cells_row = int(s_row // c_row)  # number of cells along row-axis\n",
    "n_cells_col = int(s_col // c_col)  # number of cells along col-axis\n",
    "\n",
    "# compute orientations integral images\n",
    "orientation_histogram = np.zeros((n_cells_row, n_cells_col, orientations))\n",
    "\n",
    "_hoghistogram.hog_histograms(g_col, g_row, c_col, c_row, s_col, s_row,n_cells_col, n_cells_row,            orientations, orientation_histogram)"
   ]
  },
  {
   "cell_type": "markdown",
   "metadata": {},
   "source": [
    "The fourth stage computes normalization, which takes local groups of\n",
    "cells and contrast normalizes their overall responses before passing\n",
    "to next stage. Normalization introduces better invariance to illumination,\n",
    "shadowing, and edge contrast. It is performed by accumulating a measure\n",
    "of local histogram \"energy\" over local groups of cells that we call\n",
    "\"blocks\". The result is used to normalize each cell in the block.\n",
    "Typically each individual cell is shared between several blocks, but\n",
    "its normalizations are block dependent and thus different. The cell\n",
    "thus appears several times in the final output vector with different\n",
    "normalizations. This may seem redundant but it improves the performance.\n",
    "We refer to the normalized block descriptors as Histogram of Oriented\n",
    "Gradient (HOG) descriptors."
   ]
  },
  {
   "cell_type": "raw",
   "metadata": {},
   "source": [
    "\n",
    "n_blocks_row = (n_cells_row - b_row) + 1\n",
    "n_blocks_col = (n_cells_col - b_col) + 1\n",
    "normalized_blocks = np.zeros((n_blocks_row, n_blocks_col,b_row, b_col, orientations))\n",
    "\n",
    "for r in range(n_blocks_row):\n",
    "    for c in range(n_blocks_col):\n",
    "        block = orientation_histogram[r:r + b_row, c:c + b_col, :]\n",
    "        normalized_blocks[r, c, :] = block / (np.sum(np.abs(block)) + eps) #eps=1e-5"
   ]
  },
  {
   "cell_type": "markdown",
   "metadata": {},
   "source": [
    "The final step collects the HOG descriptors from all blocks of a dense\n",
    "overlapping grid of blocks covering the detection window into a combined\n",
    "feature vector for use in the window classifier."
   ]
  },
  {
   "cell_type": "code",
   "execution_count": null,
   "metadata": {},
   "outputs": [],
   "source": [
    "if feature_vector:\n",
    "    normalized_blocks = normalized_blocks.ravel()"
   ]
  },
  {
   "cell_type": "code",
   "execution_count": null,
   "metadata": {},
   "outputs": [],
   "source": [
    "def hog_histograms(double[:, ::1] gradient_columns, double[:, ::1] gradient_rows,int cell_columns, int cell_rows,\n",
    "                   int size_columns, int size_rows,  int number_of_cells_columns, int number_of_cells_rows,\n",
    "                   int number_of_orientations, cnp.float64_t[:, :, :] orientation_histogram):\n",
    "    \"\"\"Extract Histogram of Oriented Gradients (HOG) for a given image.\n",
    "\n",
    "    Parameters\n",
    "    ----------\n",
    "    gradient_columns : ndarray\n",
    "        First order image gradients (rows).\n",
    "    gradient_rows : ndarray\n",
    "        First order image gradients (columns).\n",
    "    cell_columns : int\n",
    "        Pixels per cell (rows).\n",
    "    cell_rows : int\n",
    "        Pixels per cell (columns).\n",
    "    size_columns : int\n",
    "        Number of columns.\n",
    "    size_rows : int\n",
    "        Number of rows.\n",
    "    number_of_cells_columns : int\n",
    "        Number of cells (rows).\n",
    "    number_of_cells_rows : int\n",
    "        Number of cells (columns).\n",
    "    number_of_orientations : int\n",
    "        Number of orientation bins.\n",
    "    orientation_histogram : ndarray\n",
    "        The histogram array which is modified in place.\n",
    "    \"\"\"\n",
    "\n",
    "    cdef double[:, ::1] magnitude = np.hypot(gradient_columns, gradient_rows)\n",
    "    cdef double[:, ::1] orientation = np.rad2deg(np.arctan2(gradient_rows, gradient_columns)) % 180\n",
    "    cdef int i, c, r, o, r_i, c_i, cc, cr, c_0, r_0, range_rows_start, range_rows_stop, range_columns_start, \\\n",
    "    range_columns_stop\n",
    "    cdef float orientation_start, orientation_end, number_of_orientations_per_180\n",
    "\n",
    "    r_0 = cell_rows / 2 #3\n",
    "    c_0 = cell_columns / 2 #3\n",
    "    cc = cell_rows * number_of_cells_rows\n",
    "    cr = cell_columns * number_of_cells_columns\n",
    "    range_rows_stop = cell_rows / 2\n",
    "    range_rows_start = -range_rows_stop\n",
    "    range_columns_stop = cell_columns / 2\n",
    "    range_columns_start = -range_columns_stop\n",
    "    number_of_orientations_per_180 = 180. / number_of_orientations\n",
    "\n",
    "    with nogil:\n",
    "        # compute orientations integral images\n",
    "        for i in range(number_of_orientations):\n",
    "            # isolate orientations in this range\n",
    "            orientation_start = number_of_orientations_per_180 * (i + 1)\n",
    "            orientation_end = number_of_orientations_per_180 * i\n",
    "            c = c_0\n",
    "            r = r_0\n",
    "            r_i = 0\n",
    "            c_i = 0\n",
    "\n",
    "            while r < cc:\n",
    "                c_i = 0\n",
    "                c = c_0\n",
    "\n",
    "                while c < cr:\n",
    "                    orientation_histogram[r_i, c_i, i] = cell_hog(magnitude, orientation,\n",
    "                                 orientation_start, orientation_end,\n",
    "                                 cell_columns, cell_rows, c, r,\n",
    "                                 size_columns, size_rows,range_rows_start, range_rows_stop,\n",
    "                                 range_columns_start, range_columns_stop)\n",
    "                    c_i += 1\n",
    "                    c += cell_columns\n",
    "\n",
    "                r_i += 1\n",
    "                r += cell_rows"
   ]
  },
  {
   "cell_type": "code",
   "execution_count": null,
   "metadata": {},
   "outputs": [],
   "source": [
    "cdef float cell_hog(double[:, ::1] magnitude,\n",
    "                    double[:, ::1] orientation,\n",
    "                    float orientation_start, float orientation_end,\n",
    "                    int cell_columns, int cell_rows,\n",
    "                    int column_index, int row_index,\n",
    "                    int size_columns, int size_rows,\n",
    "                    int range_rows_start, int range_rows_stop,\n",
    "                    int range_columns_start, int range_columns_stop) nogil:\n",
    "    \"\"\"Calculation of the cell's HOG value\n",
    "\n",
    "    Parameters\n",
    "    ----------\n",
    "    magnitude : ndarray\n",
    "        The gradient magnitudes of the pixels.\n",
    "    orientation : ndarray\n",
    "        Lookup table for orientations.\n",
    "    orientation_start : float\n",
    "        Orientation range start.\n",
    "    orientation_end : float\n",
    "        Orientation range end.\n",
    "    cell_columns : int\n",
    "        Pixels per cell (rows).\n",
    "    cell_rows : int\n",
    "        Pixels per cell (columns).\n",
    "    column_index : int\n",
    "        Block column index.\n",
    "    row_index : int\n",
    "        Block row index.\n",
    "    size_columns : int\n",
    "        Number of columns.\n",
    "    size_rows : int\n",
    "        Number of rows.\n",
    "    range_rows_start : int\n",
    "        Start row of cell.\n",
    "    range_rows_stop : int\n",
    "        Stop row of cell.\n",
    "    range_columns_start : int\n",
    "        Start column of cell.\n",
    "    range_columns_stop : int\n",
    "        Stop column of cell\n",
    "\n",
    "    Returns\n",
    "    -------\n",
    "    total : float\n",
    "        The total HOG value.\n",
    "    \"\"\"\n",
    "    cdef int cell_column, cell_row, cell_row_index, cell_column_index\n",
    "    cdef float total = 0.\n",
    "\n",
    "    for cell_row in range(range_rows_start, range_rows_stop):\n",
    "        cell_row_index = row_index + cell_row\n",
    "        if (cell_row_index < 0 or cell_row_index >= size_rows):\n",
    "            continue\n",
    "\n",
    "        for cell_column in range(range_columns_start, range_columns_stop):\n",
    "            cell_column_index = column_index + cell_column\n",
    "            if (cell_column_index < 0 or cell_column_index >= size_columns\n",
    "                    or orientation[cell_row_index, cell_column_index]\n",
    "                    >= orientation_start\n",
    "                    or orientation[cell_row_index, cell_column_index]\n",
    "                    < orientation_end):\n",
    "                continue\n",
    "\n",
    "            total += magnitude[cell_row_index, cell_column_index]\n",
    "\n",
    "    return total / (cell_rows * cell_columns)"
   ]
  }
 ],
 "metadata": {
  "kernelspec": {
   "display_name": "Python 3",
   "language": "python",
   "name": "python3"
  },
  "language_info": {
   "codemirror_mode": {
    "name": "ipython",
    "version": 3
   },
   "file_extension": ".py",
   "mimetype": "text/x-python",
   "name": "python",
   "nbconvert_exporter": "python",
   "pygments_lexer": "ipython3",
   "version": "3.6.4"
  }
 },
 "nbformat": 4,
 "nbformat_minor": 2
}
